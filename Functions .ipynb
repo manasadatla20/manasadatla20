{
 "cells": [
  {
   "cell_type": "markdown",
   "metadata": {},
   "source": [
    "# Python Functions"
   ]
  },
  {
   "cell_type": "markdown",
   "metadata": {},
   "source": [
    "---- A function is a block of code which runs only when it is called to perform a specific task.\n",
    "---- You can pass data into function --- Parameters\n",
    "---- A function can return data as a result\n",
    "---- Resuability of code \n",
    "---- \"def\" -- define "
   ]
  },
  {
   "cell_type": "markdown",
   "metadata": {},
   "source": [
    "# Creating a function"
   ]
  },
  {
   "cell_type": "code",
   "execution_count": 1,
   "metadata": {},
   "outputs": [],
   "source": [
    "def pythonclass():\n",
    "    print(\"welcome to my session\")"
   ]
  },
  {
   "cell_type": "markdown",
   "metadata": {},
   "source": [
    "# Calling a function"
   ]
  },
  {
   "cell_type": "code",
   "execution_count": 2,
   "metadata": {},
   "outputs": [
    {
     "name": "stdout",
     "output_type": "stream",
     "text": [
      "welcome to my session\n"
     ]
    }
   ],
   "source": [
    "def pythonclass():\n",
    "    print(\"welcome to my session\")\n",
    "pythonclass()    "
   ]
  },
  {
   "cell_type": "markdown",
   "metadata": {},
   "source": [
    "# function with parameters"
   ]
  },
  {
   "cell_type": "code",
   "execution_count": 5,
   "metadata": {},
   "outputs": [
    {
     "name": "stdout",
     "output_type": "stream",
     "text": [
      "26\n"
     ]
    }
   ],
   "source": [
    "def add(a,b):\n",
    "    result = a+b\n",
    "    return result\n",
    "\n",
    "result = add(12,14)\n",
    "print(result)\n"
   ]
  },
  {
   "cell_type": "markdown",
   "metadata": {},
   "source": [
    " *args\n",
    "*kwargs\n",
    "---positional args"
   ]
  },
  {
   "cell_type": "markdown",
   "metadata": {},
   "source": [
    "# positional arguments"
   ]
  },
  {
   "cell_type": "code",
   "execution_count": 7,
   "metadata": {},
   "outputs": [],
   "source": [
    "def nprintln(message,n):\n",
    "    for i in range(n):\n",
    "        print(message)"
   ]
  },
  {
   "cell_type": "markdown",
   "metadata": {},
   "source": [
    "# *args --- arguments"
   ]
  },
  {
   "cell_type": "code",
   "execution_count": 8,
   "metadata": {},
   "outputs": [],
   "source": [
    "def num(*args):\n",
    "    x = args+(4,5,6,7,8,9)\n",
    "    print(args[0])\n",
    "    print(args[1])\n",
    "    print(args[2])"
   ]
  },
  {
   "cell_type": "markdown",
   "metadata": {},
   "source": [
    "# **kwargs --- keyword args"
   ]
  },
  {
   "cell_type": "code",
   "execution_count": 10,
   "metadata": {},
   "outputs": [
    {
     "name": "stdout",
     "output_type": "stream",
     "text": [
      "dict_keys(['x', 'y', 'z'])\n"
     ]
    }
   ],
   "source": [
    "def fname(**kwargs):\n",
    "    print(kwargs.keys())\n",
    "fname(x=11,y=12,z=13)    "
   ]
  },
  {
   "cell_type": "code",
   "execution_count": 14,
   "metadata": {},
   "outputs": [
    {
     "name": "stdout",
     "output_type": "stream",
     "text": [
      "4\n",
      "5\n",
      "(1, 2, 3)\n",
      "{'a': 10, 'b': 20, 'c': 20}\n"
     ]
    }
   ],
   "source": [
    "def fname(x,y,*args,**kwargs):\n",
    "    print(x)\n",
    "    print(y)\n",
    "    print(args)\n",
    "    print(kwargs)\n",
    "fname(4,5,1,2,3,a=10,b=20,c=20)    \n",
    "    "
   ]
  },
  {
   "cell_type": "markdown",
   "metadata": {},
   "source": [
    "# What is global variable and local variable ? example??"
   ]
  },
  {
   "cell_type": "markdown",
   "metadata": {},
   "source": [
    "# Lambda function "
   ]
  },
  {
   "cell_type": "markdown",
   "metadata": {},
   "source": [
    "# A lambda function is small anonymous function in python.\n",
    " it can take any no.of arguments ,but can have only one expression"
   ]
  },
  {
   "cell_type": "markdown",
   "metadata": {},
   "source": [
    "syntax ---- lambda argument : expression"
   ]
  },
  {
   "cell_type": "code",
   "execution_count": 15,
   "metadata": {},
   "outputs": [
    {
     "name": "stdout",
     "output_type": "stream",
     "text": [
      "15\n"
     ]
    }
   ],
   "source": [
    "x = lambda a : a+10\n",
    "print(x(5))"
   ]
  },
  {
   "cell_type": "code",
   "execution_count": 16,
   "metadata": {},
   "outputs": [
    {
     "name": "stdout",
     "output_type": "stream",
     "text": [
      "6\n"
     ]
    }
   ],
   "source": [
    "x = lambda a,b : a*b\n",
    "print(x(2,3))"
   ]
  },
  {
   "cell_type": "code",
   "execution_count": null,
   "metadata": {},
   "outputs": [],
   "source": [
    "Zip() --- combines two or more iterable objects into a tuple \n",
    "map() --- function that works a iterator to return a result fter applying a function to each iobject\n",
    "reduce() -- is to apply a function having accumulative values.\n",
    "filter () --- filter the functions which are not in use // necessary//important"
   ]
  },
  {
   "cell_type": "code",
   "execution_count": null,
   "metadata": {},
   "outputs": [],
   "source": []
  },
  {
   "cell_type": "code",
   "execution_count": null,
   "metadata": {},
   "outputs": [],
   "source": []
  }
 ],
 "metadata": {
  "kernelspec": {
   "display_name": "Python 3",
   "language": "python",
   "name": "python3"
  },
  "language_info": {
   "codemirror_mode": {
    "name": "ipython",
    "version": 3
   },
   "file_extension": ".py",
   "mimetype": "text/x-python",
   "name": "python",
   "nbconvert_exporter": "python",
   "pygments_lexer": "ipython3",
   "version": "3.7.6"
  }
 },
 "nbformat": 4,
 "nbformat_minor": 4
}
